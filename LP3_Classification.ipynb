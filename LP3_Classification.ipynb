{
 "cells": [
  {
   "cell_type": "markdown",
   "id": "3f22a07a",
   "metadata": {},
   "source": [
    "# PREDICTING CUSTOMER CHURN FOR A COMMUNICATION COMPANY"
   ]
  },
  {
   "cell_type": "markdown",
   "id": "97fe9554",
   "metadata": {},
   "source": [
    "## Introduction"
   ]
  },
  {
   "cell_type": "markdown",
   "id": "14a31556",
   "metadata": {},
   "source": [
    "Customer churn also known as customer turnover is the fraction of customers that stopped patronizing a company's products or services for a specific period. This project is a classification project which will help a telecom company understand their data, point out what is being done wrong or right and predict the possibilities of customers churning and help the company to make the right decision for the development of the company. We will build a Machine learning algorithm to predict whether customers are likely to churn or not.\n",
    "\n",
    "This project seeks to ascertain the likelihood of turnover among customers in a Telecommunication company. This project will analyze the possible cause and predict if a customer will churn in future also suggest strategies to retain customers."
   ]
  },
  {
   "cell_type": "markdown",
   "id": "f8b6996c",
   "metadata": {},
   "source": [
    "### Null Hypothesis:\n",
    "Customers with multiple services have a high likelihood to leave an organization"
   ]
  },
  {
   "cell_type": "markdown",
   "id": "48d0c089",
   "metadata": {},
   "source": [
    "### Alternative Hypothesis:\n",
    "Customers with multiple services have a high likelihood to retain the organization"
   ]
  },
  {
   "cell_type": "markdown",
   "id": "bda8fed3",
   "metadata": {},
   "source": [
    "#### Questions"
   ]
  },
  {
   "cell_type": "markdown",
   "id": "f9812bb6",
   "metadata": {},
   "source": [
    "1. Total number of customers per payment method ?\n",
    "2. How many Male/Female are subscribed to the organization's services ?\n",
    "3. How many custmers have stayed in the company for the maximum tenure ? \n",
    "4. Which is the most prefered contract ?\n",
    "5. What is the churn rate for customers with multiple lines ?\n",
    "6. Total monthly charges that customers with dependents will incur ?"
   ]
  },
  {
   "cell_type": "code",
   "execution_count": 1,
   "id": "0c759419",
   "metadata": {},
   "outputs": [],
   "source": [
    "# importing libraries\n",
    "import pandas as pd\n",
    "import numpy as np\n",
    "from matplotlib import pyplot as plt\n",
    "import seaborn as sns\n",
    "\n",
    "#Data Splitting\n",
    "from sklearn.model_selection import train_test_split, GridSearchCV\n",
    "\n",
    "#Models\n",
    "from sklearn.metrics import confusion_matrix,classification_report,f1_score\n",
    "from sklearn.linear_model import LogisticRegression\n",
    "from sklearn.ensemble import RandomForestClassifier\n",
    "from sklearn.neighbors import KNeighborsClassifier\n",
    "from sklearn.tree import DecisionTreeClassifier\n",
    "\n",
    "from sklearn.impute import SimpleImputer\n",
    "from sklearn.preprocessing import OneHotEncoder, LabelEncoder,StandardScaler\n",
    "from imblearn.over_sampling import SMOTE\n",
    "from sklearn.model_selection import cross_val_score\n",
    "import pickle\n",
    "import shap\n",
    "\n",
    "# EDA\n",
    "from pandas_profiling import ProfileReport\n",
    "\n",
    "import warnings\n",
    "warnings.filterwarnings('ignore')"
   ]
  },
  {
   "cell_type": "code",
   "execution_count": 2,
   "id": "4ebe30c3",
   "metadata": {},
   "outputs": [],
   "source": [
    "# loading dataset\n",
    "customer_data= pd.read_csv(r\"C:\\Users\\hp\\Box\\Azubi Africa\\Project Three\\Telco-Customer-Churn.csv\")"
   ]
  },
  {
   "cell_type": "code",
   "execution_count": 3,
   "id": "20ed1dce",
   "metadata": {},
   "outputs": [
    {
     "data": {
      "text/html": [
       "<div>\n",
       "<style scoped>\n",
       "    .dataframe tbody tr th:only-of-type {\n",
       "        vertical-align: middle;\n",
       "    }\n",
       "\n",
       "    .dataframe tbody tr th {\n",
       "        vertical-align: top;\n",
       "    }\n",
       "\n",
       "    .dataframe thead th {\n",
       "        text-align: right;\n",
       "    }\n",
       "</style>\n",
       "<table border=\"1\" class=\"dataframe\">\n",
       "  <thead>\n",
       "    <tr style=\"text-align: right;\">\n",
       "      <th></th>\n",
       "      <th>customerID</th>\n",
       "      <th>gender</th>\n",
       "      <th>SeniorCitizen</th>\n",
       "      <th>Partner</th>\n",
       "      <th>Dependents</th>\n",
       "      <th>tenure</th>\n",
       "      <th>PhoneService</th>\n",
       "      <th>MultipleLines</th>\n",
       "      <th>InternetService</th>\n",
       "      <th>OnlineSecurity</th>\n",
       "      <th>...</th>\n",
       "      <th>DeviceProtection</th>\n",
       "      <th>TechSupport</th>\n",
       "      <th>StreamingTV</th>\n",
       "      <th>StreamingMovies</th>\n",
       "      <th>Contract</th>\n",
       "      <th>PaperlessBilling</th>\n",
       "      <th>PaymentMethod</th>\n",
       "      <th>MonthlyCharges</th>\n",
       "      <th>TotalCharges</th>\n",
       "      <th>Churn</th>\n",
       "    </tr>\n",
       "  </thead>\n",
       "  <tbody>\n",
       "    <tr>\n",
       "      <th>0</th>\n",
       "      <td>7590-VHVEG</td>\n",
       "      <td>Female</td>\n",
       "      <td>0</td>\n",
       "      <td>Yes</td>\n",
       "      <td>No</td>\n",
       "      <td>1</td>\n",
       "      <td>No</td>\n",
       "      <td>No phone service</td>\n",
       "      <td>DSL</td>\n",
       "      <td>No</td>\n",
       "      <td>...</td>\n",
       "      <td>No</td>\n",
       "      <td>No</td>\n",
       "      <td>No</td>\n",
       "      <td>No</td>\n",
       "      <td>Month-to-month</td>\n",
       "      <td>Yes</td>\n",
       "      <td>Electronic check</td>\n",
       "      <td>29.85</td>\n",
       "      <td>29.85</td>\n",
       "      <td>No</td>\n",
       "    </tr>\n",
       "    <tr>\n",
       "      <th>1</th>\n",
       "      <td>5575-GNVDE</td>\n",
       "      <td>Male</td>\n",
       "      <td>0</td>\n",
       "      <td>No</td>\n",
       "      <td>No</td>\n",
       "      <td>34</td>\n",
       "      <td>Yes</td>\n",
       "      <td>No</td>\n",
       "      <td>DSL</td>\n",
       "      <td>Yes</td>\n",
       "      <td>...</td>\n",
       "      <td>Yes</td>\n",
       "      <td>No</td>\n",
       "      <td>No</td>\n",
       "      <td>No</td>\n",
       "      <td>One year</td>\n",
       "      <td>No</td>\n",
       "      <td>Mailed check</td>\n",
       "      <td>56.95</td>\n",
       "      <td>1889.5</td>\n",
       "      <td>No</td>\n",
       "    </tr>\n",
       "    <tr>\n",
       "      <th>2</th>\n",
       "      <td>3668-QPYBK</td>\n",
       "      <td>Male</td>\n",
       "      <td>0</td>\n",
       "      <td>No</td>\n",
       "      <td>No</td>\n",
       "      <td>2</td>\n",
       "      <td>Yes</td>\n",
       "      <td>No</td>\n",
       "      <td>DSL</td>\n",
       "      <td>Yes</td>\n",
       "      <td>...</td>\n",
       "      <td>No</td>\n",
       "      <td>No</td>\n",
       "      <td>No</td>\n",
       "      <td>No</td>\n",
       "      <td>Month-to-month</td>\n",
       "      <td>Yes</td>\n",
       "      <td>Mailed check</td>\n",
       "      <td>53.85</td>\n",
       "      <td>108.15</td>\n",
       "      <td>Yes</td>\n",
       "    </tr>\n",
       "    <tr>\n",
       "      <th>3</th>\n",
       "      <td>7795-CFOCW</td>\n",
       "      <td>Male</td>\n",
       "      <td>0</td>\n",
       "      <td>No</td>\n",
       "      <td>No</td>\n",
       "      <td>45</td>\n",
       "      <td>No</td>\n",
       "      <td>No phone service</td>\n",
       "      <td>DSL</td>\n",
       "      <td>Yes</td>\n",
       "      <td>...</td>\n",
       "      <td>Yes</td>\n",
       "      <td>Yes</td>\n",
       "      <td>No</td>\n",
       "      <td>No</td>\n",
       "      <td>One year</td>\n",
       "      <td>No</td>\n",
       "      <td>Bank transfer (automatic)</td>\n",
       "      <td>42.30</td>\n",
       "      <td>1840.75</td>\n",
       "      <td>No</td>\n",
       "    </tr>\n",
       "    <tr>\n",
       "      <th>4</th>\n",
       "      <td>9237-HQITU</td>\n",
       "      <td>Female</td>\n",
       "      <td>0</td>\n",
       "      <td>No</td>\n",
       "      <td>No</td>\n",
       "      <td>2</td>\n",
       "      <td>Yes</td>\n",
       "      <td>No</td>\n",
       "      <td>Fiber optic</td>\n",
       "      <td>No</td>\n",
       "      <td>...</td>\n",
       "      <td>No</td>\n",
       "      <td>No</td>\n",
       "      <td>No</td>\n",
       "      <td>No</td>\n",
       "      <td>Month-to-month</td>\n",
       "      <td>Yes</td>\n",
       "      <td>Electronic check</td>\n",
       "      <td>70.70</td>\n",
       "      <td>151.65</td>\n",
       "      <td>Yes</td>\n",
       "    </tr>\n",
       "  </tbody>\n",
       "</table>\n",
       "<p>5 rows × 21 columns</p>\n",
       "</div>"
      ],
      "text/plain": [
       "   customerID  gender  SeniorCitizen Partner Dependents  tenure PhoneService  \\\n",
       "0  7590-VHVEG  Female              0     Yes         No       1           No   \n",
       "1  5575-GNVDE    Male              0      No         No      34          Yes   \n",
       "2  3668-QPYBK    Male              0      No         No       2          Yes   \n",
       "3  7795-CFOCW    Male              0      No         No      45           No   \n",
       "4  9237-HQITU  Female              0      No         No       2          Yes   \n",
       "\n",
       "      MultipleLines InternetService OnlineSecurity  ... DeviceProtection  \\\n",
       "0  No phone service             DSL             No  ...               No   \n",
       "1                No             DSL            Yes  ...              Yes   \n",
       "2                No             DSL            Yes  ...               No   \n",
       "3  No phone service             DSL            Yes  ...              Yes   \n",
       "4                No     Fiber optic             No  ...               No   \n",
       "\n",
       "  TechSupport StreamingTV StreamingMovies        Contract PaperlessBilling  \\\n",
       "0          No          No              No  Month-to-month              Yes   \n",
       "1          No          No              No        One year               No   \n",
       "2          No          No              No  Month-to-month              Yes   \n",
       "3         Yes          No              No        One year               No   \n",
       "4          No          No              No  Month-to-month              Yes   \n",
       "\n",
       "               PaymentMethod MonthlyCharges  TotalCharges Churn  \n",
       "0           Electronic check          29.85         29.85    No  \n",
       "1               Mailed check          56.95        1889.5    No  \n",
       "2               Mailed check          53.85        108.15   Yes  \n",
       "3  Bank transfer (automatic)          42.30       1840.75    No  \n",
       "4           Electronic check          70.70        151.65   Yes  \n",
       "\n",
       "[5 rows x 21 columns]"
      ]
     },
     "execution_count": 3,
     "metadata": {},
     "output_type": "execute_result"
    }
   ],
   "source": [
    "customer_data.head()"
   ]
  },
  {
   "cell_type": "code",
   "execution_count": 4,
   "id": "c7dfe1ed",
   "metadata": {
    "scrolled": true
   },
   "outputs": [
    {
     "data": {
      "text/plain": [
       "(7043, 21)"
      ]
     },
     "execution_count": 4,
     "metadata": {},
     "output_type": "execute_result"
    }
   ],
   "source": [
    "customer_data.shape"
   ]
  },
  {
   "cell_type": "code",
   "execution_count": 5,
   "id": "ab2349eb",
   "metadata": {
    "scrolled": false
   },
   "outputs": [
    {
     "name": "stdout",
     "output_type": "stream",
     "text": [
      "<class 'pandas.core.frame.DataFrame'>\n",
      "RangeIndex: 7043 entries, 0 to 7042\n",
      "Data columns (total 21 columns):\n",
      " #   Column            Non-Null Count  Dtype  \n",
      "---  ------            --------------  -----  \n",
      " 0   customerID        7043 non-null   object \n",
      " 1   gender            7043 non-null   object \n",
      " 2   SeniorCitizen     7043 non-null   int64  \n",
      " 3   Partner           7043 non-null   object \n",
      " 4   Dependents        7043 non-null   object \n",
      " 5   tenure            7043 non-null   int64  \n",
      " 6   PhoneService      7043 non-null   object \n",
      " 7   MultipleLines     7043 non-null   object \n",
      " 8   InternetService   7043 non-null   object \n",
      " 9   OnlineSecurity    7043 non-null   object \n",
      " 10  OnlineBackup      7043 non-null   object \n",
      " 11  DeviceProtection  7043 non-null   object \n",
      " 12  TechSupport       7043 non-null   object \n",
      " 13  StreamingTV       7043 non-null   object \n",
      " 14  StreamingMovies   7043 non-null   object \n",
      " 15  Contract          7043 non-null   object \n",
      " 16  PaperlessBilling  7043 non-null   object \n",
      " 17  PaymentMethod     7043 non-null   object \n",
      " 18  MonthlyCharges    7043 non-null   float64\n",
      " 19  TotalCharges      7043 non-null   object \n",
      " 20  Churn             7043 non-null   object \n",
      "dtypes: float64(1), int64(2), object(18)\n",
      "memory usage: 1.1+ MB\n"
     ]
    }
   ],
   "source": [
    "customer_data.info()"
   ]
  },
  {
   "cell_type": "markdown",
   "id": "d5f203a0",
   "metadata": {},
   "source": [
    "### Issues identified\n",
    "The Totalcharges column is in object dtype."
   ]
  },
  {
   "cell_type": "code",
   "execution_count": 6,
   "id": "6bc9b1bb",
   "metadata": {},
   "outputs": [
    {
     "data": {
      "text/plain": [
       "customerID                         4472-LVYGI\n",
       "gender                                 Female\n",
       "SeniorCitizen                               0\n",
       "Partner                                   Yes\n",
       "Dependents                                Yes\n",
       "tenure                                      0\n",
       "PhoneService                               No\n",
       "MultipleLines                No phone service\n",
       "InternetService                           DSL\n",
       "OnlineSecurity                            Yes\n",
       "OnlineBackup                               No\n",
       "DeviceProtection                          Yes\n",
       "TechSupport                               Yes\n",
       "StreamingTV                               Yes\n",
       "StreamingMovies                            No\n",
       "Contract                             Two year\n",
       "PaperlessBilling                          Yes\n",
       "PaymentMethod       Bank transfer (automatic)\n",
       "MonthlyCharges                          52.55\n",
       "TotalCharges                                 \n",
       "Churn                                      No\n",
       "Name: 488, dtype: object"
      ]
     },
     "execution_count": 6,
     "metadata": {},
     "output_type": "execute_result"
    }
   ],
   "source": [
    "customer_data.iloc[488]"
   ]
  },
  {
   "cell_type": "markdown",
   "id": "9f82b483",
   "metadata": {},
   "source": [
    "We notice that at position 488 of the totalchages there is an empty space which causes the column to be converted to an object datatype."
   ]
  },
  {
   "cell_type": "code",
   "execution_count": 7,
   "id": "044dfe7b",
   "metadata": {},
   "outputs": [],
   "source": [
    "#Replacing the empty space with 0\n",
    "customer_data = customer_data.replace('^\\s*$',0, regex = True)"
   ]
  },
  {
   "cell_type": "code",
   "execution_count": 8,
   "id": "237b3b72",
   "metadata": {},
   "outputs": [],
   "source": [
    "customer_data['TotalCharges']= pd.to_numeric(customer_data['TotalCharges'])"
   ]
  },
  {
   "cell_type": "code",
   "execution_count": 9,
   "id": "8488f38d",
   "metadata": {
    "scrolled": false
   },
   "outputs": [
    {
     "data": {
      "text/plain": [
       "customerID          0\n",
       "gender              0\n",
       "SeniorCitizen       0\n",
       "Partner             0\n",
       "Dependents          0\n",
       "tenure              0\n",
       "PhoneService        0\n",
       "MultipleLines       0\n",
       "InternetService     0\n",
       "OnlineSecurity      0\n",
       "OnlineBackup        0\n",
       "DeviceProtection    0\n",
       "TechSupport         0\n",
       "StreamingTV         0\n",
       "StreamingMovies     0\n",
       "Contract            0\n",
       "PaperlessBilling    0\n",
       "PaymentMethod       0\n",
       "MonthlyCharges      0\n",
       "TotalCharges        0\n",
       "Churn               0\n",
       "dtype: int64"
      ]
     },
     "execution_count": 9,
     "metadata": {},
     "output_type": "execute_result"
    }
   ],
   "source": [
    "customer_data.isna().sum()"
   ]
  },
  {
   "cell_type": "code",
   "execution_count": 10,
   "id": "a0d1c6f3",
   "metadata": {},
   "outputs": [
    {
     "data": {
      "text/plain": [
       "0"
      ]
     },
     "execution_count": 10,
     "metadata": {},
     "output_type": "execute_result"
    }
   ],
   "source": [
    "customer_data.duplicated().sum()"
   ]
  },
  {
   "cell_type": "code",
   "execution_count": 11,
   "id": "74d1b52e",
   "metadata": {
    "scrolled": true
   },
   "outputs": [
    {
     "data": {
      "text/html": [
       "<div>\n",
       "<style scoped>\n",
       "    .dataframe tbody tr th:only-of-type {\n",
       "        vertical-align: middle;\n",
       "    }\n",
       "\n",
       "    .dataframe tbody tr th {\n",
       "        vertical-align: top;\n",
       "    }\n",
       "\n",
       "    .dataframe thead th {\n",
       "        text-align: right;\n",
       "    }\n",
       "</style>\n",
       "<table border=\"1\" class=\"dataframe\">\n",
       "  <thead>\n",
       "    <tr style=\"text-align: right;\">\n",
       "      <th></th>\n",
       "      <th>SeniorCitizen</th>\n",
       "      <th>tenure</th>\n",
       "      <th>MonthlyCharges</th>\n",
       "      <th>TotalCharges</th>\n",
       "    </tr>\n",
       "  </thead>\n",
       "  <tbody>\n",
       "    <tr>\n",
       "      <th>count</th>\n",
       "      <td>7043.000000</td>\n",
       "      <td>7043.000000</td>\n",
       "      <td>7043.000000</td>\n",
       "      <td>7043.000000</td>\n",
       "    </tr>\n",
       "    <tr>\n",
       "      <th>mean</th>\n",
       "      <td>0.162147</td>\n",
       "      <td>32.371149</td>\n",
       "      <td>64.761692</td>\n",
       "      <td>2279.734304</td>\n",
       "    </tr>\n",
       "    <tr>\n",
       "      <th>std</th>\n",
       "      <td>0.368612</td>\n",
       "      <td>24.559481</td>\n",
       "      <td>30.090047</td>\n",
       "      <td>2266.794470</td>\n",
       "    </tr>\n",
       "    <tr>\n",
       "      <th>min</th>\n",
       "      <td>0.000000</td>\n",
       "      <td>0.000000</td>\n",
       "      <td>18.250000</td>\n",
       "      <td>0.000000</td>\n",
       "    </tr>\n",
       "    <tr>\n",
       "      <th>25%</th>\n",
       "      <td>0.000000</td>\n",
       "      <td>9.000000</td>\n",
       "      <td>35.500000</td>\n",
       "      <td>398.550000</td>\n",
       "    </tr>\n",
       "    <tr>\n",
       "      <th>50%</th>\n",
       "      <td>0.000000</td>\n",
       "      <td>29.000000</td>\n",
       "      <td>70.350000</td>\n",
       "      <td>1394.550000</td>\n",
       "    </tr>\n",
       "    <tr>\n",
       "      <th>75%</th>\n",
       "      <td>0.000000</td>\n",
       "      <td>55.000000</td>\n",
       "      <td>89.850000</td>\n",
       "      <td>3786.600000</td>\n",
       "    </tr>\n",
       "    <tr>\n",
       "      <th>max</th>\n",
       "      <td>1.000000</td>\n",
       "      <td>72.000000</td>\n",
       "      <td>118.750000</td>\n",
       "      <td>8684.800000</td>\n",
       "    </tr>\n",
       "  </tbody>\n",
       "</table>\n",
       "</div>"
      ],
      "text/plain": [
       "       SeniorCitizen       tenure  MonthlyCharges  TotalCharges\n",
       "count    7043.000000  7043.000000     7043.000000   7043.000000\n",
       "mean        0.162147    32.371149       64.761692   2279.734304\n",
       "std         0.368612    24.559481       30.090047   2266.794470\n",
       "min         0.000000     0.000000       18.250000      0.000000\n",
       "25%         0.000000     9.000000       35.500000    398.550000\n",
       "50%         0.000000    29.000000       70.350000   1394.550000\n",
       "75%         0.000000    55.000000       89.850000   3786.600000\n",
       "max         1.000000    72.000000      118.750000   8684.800000"
      ]
     },
     "execution_count": 11,
     "metadata": {},
     "output_type": "execute_result"
    }
   ],
   "source": [
    "customer_data.describe()"
   ]
  },
  {
   "cell_type": "markdown",
   "id": "1264cb36",
   "metadata": {},
   "source": [
    "From this we learn that the minimum period that a customer atays in an organization is 0 and the maximum period is 72 months."
   ]
  },
  {
   "cell_type": "markdown",
   "id": "834af754",
   "metadata": {},
   "source": [
    "## Exploratory Data Analysis"
   ]
  },
  {
   "cell_type": "markdown",
   "id": "692e9618",
   "metadata": {},
   "source": [
    "#### Univariate Analysis"
   ]
  },
  {
   "cell_type": "code",
   "execution_count": 12,
   "id": "4208d0f4",
   "metadata": {},
   "outputs": [
    {
     "data": {
      "text/plain": [
       "No     5174\n",
       "Yes    1869\n",
       "Name: Churn, dtype: int64"
      ]
     },
     "execution_count": 12,
     "metadata": {},
     "output_type": "execute_result"
    }
   ],
   "source": [
    "# Getting the value count of churn(yes/no)\n",
    "customer_data['Churn'].value_counts()"
   ]
  },
  {
   "cell_type": "code",
   "execution_count": 13,
   "id": "05eb42ec",
   "metadata": {},
   "outputs": [
    {
     "data": {
      "image/png": "[encoded data removed]",
      "text/plain": [
       "<Figure size 432x288 with 1 Axes>"
      ]
     },
     "metadata": {
      "needs_background": "light"
     },
     "output_type": "display_data"
    }
   ],
   "source": [
    "sns.countplot(x='Churn', data=customer_data)\n",
    "plt.title('Churn Value Counts')\n",
    "plt.xlabel('Churn')\n",
    "plt.ylabel('Count')\n",
    "plt.show()"
   ]
  },
  {
   "cell_type": "markdown",
   "id": "ac26bb6f",
   "metadata": {},
   "source": [
    "From the plot we realize that there are more customers staying in the organization than those leaving."
   ]
  },
  {
   "cell_type": "markdown",
   "id": "f1a01f05",
   "metadata": {},
   "source": [
    "## 2. How many Male/Female are subscribed to the organization's services"
   ]
  },
  {
   "cell_type": "code",
   "execution_count": 14,
   "id": "ccc44c3a",
   "metadata": {
    "scrolled": true
   },
   "outputs": [
    {
     "data": {
      "text/plain": [
       "Male      3555\n",
       "Female    3488\n",
       "Name: gender, dtype: int64"
      ]
     },
     "execution_count": 14,
     "metadata": {},
     "output_type": "execute_result"
    }
   ],
   "source": [
    "# getting the value count of gender\n",
    "customer_data['gender'].value_counts()"
   ]
  },
  {
   "cell_type": "code",
   "execution_count": 15,
   "id": "d3076058",
   "metadata": {},
   "outputs": [
    {
     "data": {
      "image/png": "[encoded data removed]",
      "text/plain": [
       "<Figure size 432x288 with 1 Axes>"
      ]
     },
     "metadata": {
      "needs_background": "light"
     },
     "output_type": "display_data"
    }
   ],
   "source": [
    "sns.countplot(x='gender', data=customer_data)\n",
    "plt.title('gender Value Counts')\n",
    "plt.xlabel('gender')\n",
    "plt.ylabel('Count')\n",
    "plt.show()"
   ]
  },
  {
   "cell_type": "markdown",
   "id": "692ba161",
   "metadata": {},
   "source": [
    "## 3. How many customers have stayed in the company for the maximum tenure ?"
   ]
  },
  {
   "cell_type": "code",
   "execution_count": 16,
   "id": "0433ec44",
   "metadata": {},
   "outputs": [],
   "source": [
    "customers = customer_data.loc[customer_data['tenure'] >=72].groupby('tenure')['customerID'].count().reset_index()"
   ]
  },
  {
   "cell_type": "code",
   "execution_count": 17,
   "id": "da9b2de0",
   "metadata": {},
   "outputs": [
    {
     "data": {
      "image/png": "[encoded data removed]",
      "text/plain": [
       "<Figure size 432x288 with 1 Axes>"
      ]
     },
     "metadata": {
      "needs_background": "light"
     },
     "output_type": "display_data"
    }
   ],
   "source": [
    "sns.barplot(x='tenure', y='customerID', data=customers)\n",
    "plt.title('Number of customers with more than 30 months in the organization')\n",
    "plt.xlabel('Tenure')\n",
    "plt.ylabel('Number of customers')\n",
    "plt.show()"
   ]
  },
  {
   "cell_type": "markdown",
   "id": "81c657dd",
   "metadata": {},
   "source": [
    "#### Bivariate Analysis"
   ]
  },
  {
   "cell_type": "markdown",
   "id": "ad30742a",
   "metadata": {},
   "source": [
    "## 1. Total number of customers per payment method ?"
   ]
  },
  {
   "cell_type": "code",
   "execution_count": 18,
   "id": "930128e6",
   "metadata": {},
   "outputs": [],
   "source": [
    "customer_paymentmethods=customer_data.groupby(['PaymentMethod'])['customerID'].agg('count').reset_index(name='count')"
   ]
  },
  {
   "cell_type": "code",
   "execution_count": 19,
   "id": "33100ddf",
   "metadata": {},
   "outputs": [
    {
     "data": {
      "image/png": "[encoded data removed]",
      "text/plain": [
       "<Figure size 432x288 with 1 Axes>"
      ]
     },
     "metadata": {
      "needs_background": "light"
     },
     "output_type": "display_data"
    }
   ],
   "source": [
    "sns.barplot(x='count', y='PaymentMethod', data=customer_paymentmethods)\n",
    "plt.title('Customer Count by Payment Method')\n",
    "plt.xlabel('PaymentMethod')\n",
    "plt.ylabel('Count')\n",
    "plt.show()"
   ]
  },
  {
   "cell_type": "markdown",
   "id": "feb303a7",
   "metadata": {},
   "source": [
    "## 4. Which is the most prefered contract ?"
   ]
  },
  {
   "cell_type": "code",
   "execution_count": 20,
   "id": "9aed74e7",
   "metadata": {},
   "outputs": [
    {
     "data": {
      "text/plain": [
       "Month-to-month    3875\n",
       "Two year          1695\n",
       "One year          1473\n",
       "Name: Contract, dtype: int64"
      ]
     },
     "execution_count": 20,
     "metadata": {},
     "output_type": "execute_result"
    }
   ],
   "source": [
    "customer_data['Contract'].value_counts()"
   ]
  },
  {
   "cell_type": "code",
   "execution_count": 21,
   "id": "2659548e",
   "metadata": {},
   "outputs": [
    {
     "data": {
      "image/png": "[encoded data removed]",
      "text/plain": [
       "<Figure size 432x288 with 1 Axes>"
      ]
     },
     "metadata": {
      "needs_background": "light"
     },
     "output_type": "display_data"
    }
   ],
   "source": [
    "sns.countplot(x='Contract', data=customer_data)\n",
    "plt.title('Contract Value Counts')\n",
    "plt.xlabel('Contract')\n",
    "plt.ylabel('Count')\n",
    "plt.show()"
   ]
  },
  {
   "cell_type": "markdown",
   "id": "06d55799",
   "metadata": {},
   "source": [
    "The plot shows that the month-to-month contract is mostly used."
   ]
  },
  {
   "cell_type": "markdown",
   "id": "dd75ce2d",
   "metadata": {},
   "source": [
    "## 5. What is the churn rate for customers with multiple lines ?"
   ]
  },
  {
   "cell_type": "code",
   "execution_count": 22,
   "id": "ffd91898",
   "metadata": {},
   "outputs": [
    {
     "data": {
      "text/plain": [
       "No                  3390\n",
       "Yes                 2971\n",
       "No phone service     682\n",
       "Name: MultipleLines, dtype: int64"
      ]
     },
     "execution_count": 22,
     "metadata": {},
     "output_type": "execute_result"
    }
   ],
   "source": [
    "customer_data['MultipleLines'].value_counts()"
   ]
  },
  {
   "cell_type": "code",
   "execution_count": 23,
   "id": "cc6d1708",
   "metadata": {},
   "outputs": [
    {
     "data": {
      "text/plain": [
       "2971"
      ]
     },
     "execution_count": 23,
     "metadata": {},
     "output_type": "execute_result"
    }
   ],
   "source": [
    "customer_MultipleLines = customer_data['MultipleLines'].value_counts()['Yes']\n",
    "customer_MultipleLines"
   ]
  },
  {
   "cell_type": "code",
   "execution_count": 24,
   "id": "603df0fa",
   "metadata": {},
   "outputs": [
    {
     "data": {
      "text/plain": [
       "MultipleLines  Churn\n",
       "Yes            Yes      850\n",
       "Name: customerID, dtype: int64"
      ]
     },
     "execution_count": 24,
     "metadata": {},
     "output_type": "execute_result"
    }
   ],
   "source": [
    "customer_churn = customer_data[(customer_data['MultipleLines'] == 'Yes') & (customer_data['Churn'] == 'Yes')].groupby(['MultipleLines', 'Churn'])['customerID'].agg('count')\n",
    "customer_churn"
   ]
  },
  {
   "cell_type": "code",
   "execution_count": 25,
   "id": "5b63a454",
   "metadata": {},
   "outputs": [
    {
     "name": "stdout",
     "output_type": "stream",
     "text": [
      "The Percentage Rate is:  [28.60989566]\n"
     ]
    }
   ],
   "source": [
    "customer_churnrate = (customer_churn.values / customer_MultipleLines)*100\n",
    "print (\"The Percentage Rate is: \", customer_churnrate )"
   ]
  },
  {
   "cell_type": "markdown",
   "id": "4c98923f",
   "metadata": {},
   "source": [
    "## 6. Total monthly charges that customers with dependents will incur "
   ]
  },
  {
   "cell_type": "code",
   "execution_count": 26,
   "id": "764a7f20",
   "metadata": {},
   "outputs": [],
   "source": [
    "customer_with_dependants=customer_data.groupby(['Dependents'])['TotalCharges'].agg('sum').reset_index()"
   ]
  },
  {
   "cell_type": "code",
   "execution_count": 27,
   "id": "cacb0fc7",
   "metadata": {},
   "outputs": [
    {
     "data": {
      "text/html": [
       "<div>\n",
       "<style scoped>\n",
       "    .dataframe tbody tr th:only-of-type {\n",
       "        vertical-align: middle;\n",
       "    }\n",
       "\n",
       "    .dataframe tbody tr th {\n",
       "        vertical-align: top;\n",
       "    }\n",
       "\n",
       "    .dataframe thead th {\n",
       "        text-align: right;\n",
       "    }\n",
       "</style>\n",
       "<table border=\"1\" class=\"dataframe\">\n",
       "  <thead>\n",
       "    <tr style=\"text-align: right;\">\n",
       "      <th></th>\n",
       "      <th>Dependents</th>\n",
       "      <th>TotalCharges</th>\n",
       "    </tr>\n",
       "  </thead>\n",
       "  <tbody>\n",
       "    <tr>\n",
       "      <th>0</th>\n",
       "      <td>No</td>\n",
       "      <td>10791969.75</td>\n",
       "    </tr>\n",
       "    <tr>\n",
       "      <th>1</th>\n",
       "      <td>Yes</td>\n",
       "      <td>5264198.95</td>\n",
       "    </tr>\n",
       "  </tbody>\n",
       "</table>\n",
       "</div>"
      ],
      "text/plain": [
       "  Dependents  TotalCharges\n",
       "0         No   10791969.75\n",
       "1        Yes    5264198.95"
      ]
     },
     "execution_count": 27,
     "metadata": {},
     "output_type": "execute_result"
    }
   ],
   "source": [
    "customer_with_dependants"
   ]
  },
  {
   "cell_type": "code",
   "execution_count": 28,
   "id": "6a6f63ae",
   "metadata": {
    "scrolled": false
   },
   "outputs": [
    {
     "data": {
      "image/png": "[encoded data removed]",
      "text/plain": [
       "<Figure size 432x288 with 1 Axes>"
      ]
     },
     "metadata": {
      "needs_background": "light"
     },
     "output_type": "display_data"
    }
   ],
   "source": [
    "sns.barplot(x='Dependents', y='TotalCharges', data=customer_with_dependants)\n",
    "plt.title('Customers with dependents charges')\n",
    "plt.xlabel('Dependents')\n",
    "plt.ylabel('Total Charges')\n",
    "plt.show()"
   ]
  },
  {
   "cell_type": "markdown",
   "id": "0f79d8c0",
   "metadata": {},
   "source": [
    "### Hypothesis testing"
   ]
  },
  {
   "cell_type": "code",
   "execution_count": 29,
   "id": "02ad499f",
   "metadata": {},
   "outputs": [],
   "source": [
    "#Answering the hypothesis\n",
    "customer_ = customer_data.drop('customerID',axis=1)\n",
    "customer_['TotalServices'] = customer_data[['PhoneService', 'MultipleLines', 'InternetService', 'OnlineSecurity', 'OnlineBackup',\n",
    "                          'DeviceProtection', 'TechSupport', 'StreamingTV', 'StreamingMovies']].sum(axis=1)\n",
    "customer_['Churn'] = customer_data['Churn'].apply(lambda x: 1 if x=='Yes' else 0) # convert churn column to binary values\n"
   ]
  },
  {
   "cell_type": "code",
   "execution_count": 30,
   "id": "01034cb1",
   "metadata": {
    "scrolled": true
   },
   "outputs": [
    {
     "data": {
      "text/html": [
       "<div>\n",
       "<style scoped>\n",
       "    .dataframe tbody tr th:only-of-type {\n",
       "        vertical-align: middle;\n",
       "    }\n",
       "\n",
       "    .dataframe tbody tr th {\n",
       "        vertical-align: top;\n",
       "    }\n",
       "\n",
       "    .dataframe thead th {\n",
       "        text-align: right;\n",
       "    }\n",
       "</style>\n",
       "<table border=\"1\" class=\"dataframe\">\n",
       "  <thead>\n",
       "    <tr style=\"text-align: right;\">\n",
       "      <th></th>\n",
       "      <th>TotalServices</th>\n",
       "      <th>Churn</th>\n",
       "    </tr>\n",
       "  </thead>\n",
       "  <tbody>\n",
       "    <tr>\n",
       "      <th>0</th>\n",
       "      <td>YesNoFiber opticYesNoYesYesYesNo</td>\n",
       "      <td>1.000000</td>\n",
       "    </tr>\n",
       "    <tr>\n",
       "      <th>1</th>\n",
       "      <td>YesNoFiber opticNoYesNoYesNoYes</td>\n",
       "      <td>0.750000</td>\n",
       "    </tr>\n",
       "    <tr>\n",
       "      <th>2</th>\n",
       "      <td>YesNoFiber opticNoNoNoNoYesNo</td>\n",
       "      <td>0.739130</td>\n",
       "    </tr>\n",
       "    <tr>\n",
       "      <th>3</th>\n",
       "      <td>YesYesFiber opticNoNoNoNoNoYes</td>\n",
       "      <td>0.727273</td>\n",
       "    </tr>\n",
       "    <tr>\n",
       "      <th>4</th>\n",
       "      <td>NoNo phone serviceDSLNoNoNoNoNoYes</td>\n",
       "      <td>0.722222</td>\n",
       "    </tr>\n",
       "  </tbody>\n",
       "</table>\n",
       "</div>"
      ],
      "text/plain": [
       "                        TotalServices     Churn\n",
       "0    YesNoFiber opticYesNoYesYesYesNo  1.000000\n",
       "1     YesNoFiber opticNoYesNoYesNoYes  0.750000\n",
       "2       YesNoFiber opticNoNoNoNoYesNo  0.739130\n",
       "3      YesYesFiber opticNoNoNoNoNoYes  0.727273\n",
       "4  NoNo phone serviceDSLNoNoNoNoNoYes  0.722222"
      ]
     },
     "execution_count": 30,
     "metadata": {},
     "output_type": "execute_result"
    }
   ],
   "source": [
    "churn_rate =customer_.groupby('TotalServices')['Churn'].mean().sort_values(ascending=False).reset_index()\n",
    "churn_rate.head()"
   ]
  },
  {
   "cell_type": "markdown",
   "id": "4f6fd8be",
   "metadata": {},
   "source": [
    "From the analysis of the churn rate and totalservices we reject the null hypothesis because there is no general relationship that Customers with multiple services have a high likelihood to leave an organization. we realise that some customers with no multiple services are have a high customer churn rate. In conclusion we see that the number of services that a customer has does not contribute to churn."
   ]
  },
  {
   "cell_type": "markdown",
   "id": "60d89b1c",
   "metadata": {},
   "source": [
    "## Data splitting"
   ]
  },
  {
   "cell_type": "code",
   "execution_count": 31,
   "id": "904a1b23",
   "metadata": {},
   "outputs": [],
   "source": [
    "# spliting the data into feature and targer variables\n",
    "X = customer_data.iloc[:,:-1]\n",
    "y = customer_data.iloc[:,-1]"
   ]
  },
  {
   "cell_type": "code",
   "execution_count": 32,
   "id": "9673fc09",
   "metadata": {},
   "outputs": [],
   "source": [
    "# Encoding the target variable\n",
    "label_encoder=LabelEncoder()\n",
    "y_encoded = label_encoder.fit_transform(y) "
   ]
  },
  {
   "cell_type": "code",
   "execution_count": 33,
   "id": "51c0cd0a",
   "metadata": {},
   "outputs": [],
   "source": [
    "#converting to a DataFrame\n",
    "y_encoded_df = pd.DataFrame(y_encoded, columns = [\"Churn\"])"
   ]
  },
  {
   "cell_type": "code",
   "execution_count": 34,
   "id": "e6b1e634",
   "metadata": {},
   "outputs": [],
   "source": [
    "# combining the features and the encoded target variables\n",
    "customer_df = pd.concat([X, y_encoded_df], axis = 1 )"
   ]
  },
  {
   "cell_type": "code",
   "execution_count": 35,
   "id": "26f04489",
   "metadata": {},
   "outputs": [
    {
     "data": {
      "text/html": [
       "<div>\n",
       "<style scoped>\n",
       "    .dataframe tbody tr th:only-of-type {\n",
       "        vertical-align: middle;\n",
       "    }\n",
       "\n",
       "    .dataframe tbody tr th {\n",
       "        vertical-align: top;\n",
       "    }\n",
       "\n",
       "    .dataframe thead th {\n",
       "        text-align: right;\n",
       "    }\n",
       "</style>\n",
       "<table border=\"1\" class=\"dataframe\">\n",
       "  <thead>\n",
       "    <tr style=\"text-align: right;\">\n",
       "      <th></th>\n",
       "      <th>customerID</th>\n",
       "      <th>gender</th>\n",
       "      <th>SeniorCitizen</th>\n",
       "      <th>Partner</th>\n",
       "      <th>Dependents</th>\n",
       "      <th>tenure</th>\n",
       "      <th>PhoneService</th>\n",
       "      <th>MultipleLines</th>\n",
       "      <th>InternetService</th>\n",
       "      <th>OnlineSecurity</th>\n",
       "      <th>...</th>\n",
       "      <th>DeviceProtection</th>\n",
       "      <th>TechSupport</th>\n",
       "      <th>StreamingTV</th>\n",
       "      <th>StreamingMovies</th>\n",
       "      <th>Contract</th>\n",
       "      <th>PaperlessBilling</th>\n",
       "      <th>PaymentMethod</th>\n",
       "      <th>MonthlyCharges</th>\n",
       "      <th>TotalCharges</th>\n",
       "      <th>Churn</th>\n",
       "    </tr>\n",
       "  </thead>\n",
       "  <tbody>\n",
       "    <tr>\n",
       "      <th>0</th>\n",
       "      <td>7590-VHVEG</td>\n",
       "      <td>Female</td>\n",
       "      <td>0</td>\n",
       "      <td>Yes</td>\n",
       "      <td>No</td>\n",
       "      <td>1</td>\n",
       "      <td>No</td>\n",
       "      <td>No phone service</td>\n",
       "      <td>DSL</td>\n",
       "      <td>No</td>\n",
       "      <td>...</td>\n",
       "      <td>No</td>\n",
       "      <td>No</td>\n",
       "      <td>No</td>\n",
       "      <td>No</td>\n",
       "      <td>Month-to-month</td>\n",
       "      <td>Yes</td>\n",
       "      <td>Electronic check</td>\n",
       "      <td>29.85</td>\n",
       "      <td>29.85</td>\n",
       "      <td>0</td>\n",
       "    </tr>\n",
       "    <tr>\n",
       "      <th>1</th>\n",
       "      <td>5575-GNVDE</td>\n",
       "      <td>Male</td>\n",
       "      <td>0</td>\n",
       "      <td>No</td>\n",
       "      <td>No</td>\n",
       "      <td>34</td>\n",
       "      <td>Yes</td>\n",
       "      <td>No</td>\n",
       "      <td>DSL</td>\n",
       "      <td>Yes</td>\n",
       "      <td>...</td>\n",
       "      <td>Yes</td>\n",
       "      <td>No</td>\n",
       "      <td>No</td>\n",
       "      <td>No</td>\n",
       "      <td>One year</td>\n",
       "      <td>No</td>\n",
       "      <td>Mailed check</td>\n",
       "      <td>56.95</td>\n",
       "      <td>1889.50</td>\n",
       "      <td>0</td>\n",
       "    </tr>\n",
       "    <tr>\n",
       "      <th>2</th>\n",
       "      <td>3668-QPYBK</td>\n",
       "      <td>Male</td>\n",
       "      <td>0</td>\n",
       "      <td>No</td>\n",
       "      <td>No</td>\n",
       "      <td>2</td>\n",
       "      <td>Yes</td>\n",
       "      <td>No</td>\n",
       "      <td>DSL</td>\n",
       "      <td>Yes</td>\n",
       "      <td>...</td>\n",
       "      <td>No</td>\n",
       "      <td>No</td>\n",
       "      <td>No</td>\n",
       "      <td>No</td>\n",
       "      <td>Month-to-month</td>\n",
       "      <td>Yes</td>\n",
       "      <td>Mailed check</td>\n",
       "      <td>53.85</td>\n",
       "      <td>108.15</td>\n",
       "      <td>1</td>\n",
       "    </tr>\n",
       "    <tr>\n",
       "      <th>3</th>\n",
       "      <td>7795-CFOCW</td>\n",
       "      <td>Male</td>\n",
       "      <td>0</td>\n",
       "      <td>No</td>\n",
       "      <td>No</td>\n",
       "      <td>45</td>\n",
       "      <td>No</td>\n",
       "      <td>No phone service</td>\n",
       "      <td>DSL</td>\n",
       "      <td>Yes</td>\n",
       "      <td>...</td>\n",
       "      <td>Yes</td>\n",
       "      <td>Yes</td>\n",
       "      <td>No</td>\n",
       "      <td>No</td>\n",
       "      <td>One year</td>\n",
       "      <td>No</td>\n",
       "      <td>Bank transfer (automatic)</td>\n",
       "      <td>42.30</td>\n",
       "      <td>1840.75</td>\n",
       "      <td>0</td>\n",
       "    </tr>\n",
       "    <tr>\n",
       "      <th>4</th>\n",
       "      <td>9237-HQITU</td>\n",
       "      <td>Female</td>\n",
       "      <td>0</td>\n",
       "      <td>No</td>\n",
       "      <td>No</td>\n",
       "      <td>2</td>\n",
       "      <td>Yes</td>\n",
       "      <td>No</td>\n",
       "      <td>Fiber optic</td>\n",
       "      <td>No</td>\n",
       "      <td>...</td>\n",
       "      <td>No</td>\n",
       "      <td>No</td>\n",
       "      <td>No</td>\n",
       "      <td>No</td>\n",
       "      <td>Month-to-month</td>\n",
       "      <td>Yes</td>\n",
       "      <td>Electronic check</td>\n",
       "      <td>70.70</td>\n",
       "      <td>151.65</td>\n",
       "      <td>1</td>\n",
       "    </tr>\n",
       "  </tbody>\n",
       "</table>\n",
       "<p>5 rows × 21 columns</p>\n",
       "</div>"
      ],
      "text/plain": [
       "   customerID  gender  SeniorCitizen Partner Dependents  tenure PhoneService  \\\n",
       "0  7590-VHVEG  Female              0     Yes         No       1           No   \n",
       "1  5575-GNVDE    Male              0      No         No      34          Yes   \n",
       "2  3668-QPYBK    Male              0      No         No       2          Yes   \n",
       "3  7795-CFOCW    Male              0      No         No      45           No   \n",
       "4  9237-HQITU  Female              0      No         No       2          Yes   \n",
       "\n",
       "      MultipleLines InternetService OnlineSecurity  ... DeviceProtection  \\\n",
       "0  No phone service             DSL             No  ...               No   \n",
       "1                No             DSL            Yes  ...              Yes   \n",
       "2                No             DSL            Yes  ...               No   \n",
       "3  No phone service             DSL            Yes  ...              Yes   \n",
       "4                No     Fiber optic             No  ...               No   \n",
       "\n",
       "  TechSupport StreamingTV StreamingMovies        Contract PaperlessBilling  \\\n",
       "0          No          No              No  Month-to-month              Yes   \n",
       "1          No          No              No        One year               No   \n",
       "2          No          No              No  Month-to-month              Yes   \n",
       "3         Yes          No              No        One year               No   \n",
       "4          No          No              No  Month-to-month              Yes   \n",
       "\n",
       "               PaymentMethod MonthlyCharges  TotalCharges  Churn  \n",
       "0           Electronic check          29.85         29.85      0  \n",
       "1               Mailed check          56.95       1889.50      0  \n",
       "2               Mailed check          53.85        108.15      1  \n",
       "3  Bank transfer (automatic)          42.30       1840.75      0  \n",
       "4           Electronic check          70.70        151.65      1  \n",
       "\n",
       "[5 rows x 21 columns]"
      ]
     },
     "execution_count": 35,
     "metadata": {},
     "output_type": "execute_result"
    }
   ],
   "source": [
    "customer_df.head()"
   ]
  },
  {
   "cell_type": "code",
   "execution_count": 36,
   "id": "e4b9b8c8",
   "metadata": {},
   "outputs": [],
   "source": [
    "# Split the encoded data into train and test sets\n",
    "X_train, X_eval, y_train, y_eval = train_test_split(customer_df.iloc[:, :-1], customer_df.iloc[:, -1:],\n",
    "                                                    test_size=0.2, random_state=42, stratify=customer_df.iloc[:, -1:])"
   ]
  },
  {
   "cell_type": "code",
   "execution_count": 37,
   "id": "ed648f28",
   "metadata": {},
   "outputs": [
    {
     "data": {
      "text/plain": [
       "((5634, 20), (1409, 20), (5634, 1), (1409, 1))"
      ]
     },
     "execution_count": 37,
     "metadata": {},
     "output_type": "execute_result"
    }
   ],
   "source": [
    "X_train.shape, X_eval.shape, y_train.shape, y_eval.shape"
   ]
  },
  {
   "cell_type": "markdown",
   "id": "e2f64711",
   "metadata": {},
   "source": [
    "## Imputing Missing Values"
   ]
  },
  {
   "cell_type": "code",
   "execution_count": 38,
   "id": "0ae1e9d3",
   "metadata": {},
   "outputs": [],
   "source": [
    "#puting all categorical features in a list \n",
    "categorical_columns=['gender','Partner','Dependents','PhoneService','MultipleLines','InternetService',\n",
    "                     'OnlineSecurity','OnlineBackup','DeviceProtection','TechSupport','StreamingTV',\n",
    "                     'StreamingMovies','Contract','PaperlessBilling','PaymentMethod']"
   ]
  },
  {
   "cell_type": "code",
   "execution_count": 39,
   "id": "ac520a97",
   "metadata": {},
   "outputs": [],
   "source": [
    "#puting all numerical features in a list \n",
    "numerical_columns = ['SeniorCitizen','tenure','MonthlyCharges','TotalCharges']"
   ]
  },
  {
   "cell_type": "code",
   "execution_count": 40,
   "id": "abb1dfc2",
   "metadata": {},
   "outputs": [],
   "source": [
    "'''creating copy of the categorical features and numerical features\n",
    "before imputing null value to avoid modifying the orginal dataset'''\n",
    "\n",
    "X_train_cat = X_train[categorical_columns].copy()\n",
    "X_train_num = X_train[numerical_columns].copy()\n",
    "\n",
    "X_eval_cat = X_eval[categorical_columns].copy()\n",
    "X_eval_num = X_eval[numerical_columns].copy()"
   ]
  },
  {
   "cell_type": "code",
   "execution_count": 41,
   "id": "0d35a6bd",
   "metadata": {},
   "outputs": [],
   "source": [
    "# Creating imputer variables\n",
    "numerical_imputer = SimpleImputer(strategy = \"mean\")\n",
    "categorical_imputer = SimpleImputer(strategy = \"most_frequent\")"
   ]
  },
  {
   "cell_type": "code",
   "execution_count": 42,
   "id": "d40cd5cd",
   "metadata": {},
   "outputs": [],
   "source": [
    "# Fitting the Imputer\n",
    "X_train_cat_imputed = categorical_imputer.fit_transform(X_train_cat)\n",
    "X_train_num_imputed = numerical_imputer.fit_transform(X_train_num)\n",
    "\n",
    "X_eval_cat_imputed = categorical_imputer.fit_transform(X_eval_cat)\n",
    "X_eval_num_imputed = numerical_imputer.fit_transform(X_eval_num)"
   ]
  },
  {
   "cell_type": "markdown",
   "id": "1bb61c59",
   "metadata": {},
   "source": [
    "## Feature Encoding"
   ]
  },
  {
   "cell_type": "code",
   "execution_count": 43,
   "id": "6a80508e",
   "metadata": {},
   "outputs": [],
   "source": [
    " encoder=OneHotEncoder(handle_unknown='ignore')"
   ]
  },
  {
   "cell_type": "code",
   "execution_count": 44,
   "id": "6de91fd2",
   "metadata": {},
   "outputs": [],
   "source": [
    "# encoding the xtrain categories and converting to a dataframe\n",
    "X_train_cat_encoded = encoder.fit(X_train_cat_imputed)\n",
    "X_train_cat_encoded = pd.DataFrame(encoder.transform(X_train_cat_imputed).toarray(),\n",
    "                                   columns=encoder.get_feature_names(categorical_columns))"
   ]
  },
  {
   "cell_type": "code",
   "execution_count": 45,
   "id": "67d2f65d",
   "metadata": {},
   "outputs": [],
   "source": [
    "# encoding the xeval categories and converting to a dataframe\n",
    "X_eval_cat_encoded = encoder.fit(X_eval_cat_imputed)\n",
    "X_eval_cat_encoded = pd.DataFrame(encoder.transform(X_eval_cat_imputed).toarray(),\n",
    "                                   columns=encoder.get_feature_names(categorical_columns))"
   ]
  },
  {
   "cell_type": "markdown",
   "id": "3d24ddf0",
   "metadata": {},
   "source": [
    "## Feature  Scaling"
   ]
  },
  {
   "cell_type": "code",
   "execution_count": 46,
   "id": "fffedcc7",
   "metadata": {},
   "outputs": [],
   "source": [
    "scaler = StandardScaler()"
   ]
  },
  {
   "cell_type": "code",
   "execution_count": 47,
   "id": "4436dc87",
   "metadata": {},
   "outputs": [],
   "source": [
    "X_train_num_scaled = scaler.fit_transform(X_train_num_imputed)\n",
    "X_train_num_sc = pd.DataFrame(X_train_num_scaled, columns = numerical_columns)"
   ]
  },
  {
   "cell_type": "code",
   "execution_count": 48,
   "id": "d02373f7",
   "metadata": {},
   "outputs": [],
   "source": [
    "X_eval_num_scaled = scaler.fit_transform(X_eval_num_imputed)\n",
    "X_eval_num_sc = pd.DataFrame(X_eval_num_scaled, columns = numerical_columns)"
   ]
  },
  {
   "cell_type": "markdown",
   "id": "274b3302",
   "metadata": {},
   "source": [
    "## Combining Numerical and Categorical Imputs"
   ]
  },
  {
   "cell_type": "code",
   "execution_count": 49,
   "id": "9ee7ff3c",
   "metadata": {},
   "outputs": [],
   "source": [
    "X_train_df = pd.concat([X_train_num_sc,X_train_cat_encoded], axis =1)\n",
    "X_eval_df = pd.concat([X_eval_num_sc,X_eval_cat_encoded], axis =1)"
   ]
  },
  {
   "cell_type": "code",
   "execution_count": 50,
   "id": "a3297d12",
   "metadata": {},
   "outputs": [
    {
     "data": {
      "text/html": [
       "<div>\n",
       "<style scoped>\n",
       "    .dataframe tbody tr th:only-of-type {\n",
       "        vertical-align: middle;\n",
       "    }\n",
       "\n",
       "    .dataframe tbody tr th {\n",
       "        vertical-align: top;\n",
       "    }\n",
       "\n",
       "    .dataframe thead th {\n",
       "        text-align: right;\n",
       "    }\n",
       "</style>\n",
       "<table border=\"1\" class=\"dataframe\">\n",
       "  <thead>\n",
       "    <tr style=\"text-align: right;\">\n",
       "      <th></th>\n",
       "      <th>SeniorCitizen</th>\n",
       "      <th>tenure</th>\n",
       "      <th>MonthlyCharges</th>\n",
       "      <th>TotalCharges</th>\n",
       "      <th>gender_Female</th>\n",
       "      <th>gender_Male</th>\n",
       "      <th>Partner_No</th>\n",
       "      <th>Partner_Yes</th>\n",
       "      <th>Dependents_No</th>\n",
       "      <th>Dependents_Yes</th>\n",
       "      <th>...</th>\n",
       "      <th>StreamingMovies_Yes</th>\n",
       "      <th>Contract_Month-to-month</th>\n",
       "      <th>Contract_One year</th>\n",
       "      <th>Contract_Two year</th>\n",
       "      <th>PaperlessBilling_No</th>\n",
       "      <th>PaperlessBilling_Yes</th>\n",
       "      <th>PaymentMethod_Bank transfer (automatic)</th>\n",
       "      <th>PaymentMethod_Credit card (automatic)</th>\n",
       "      <th>PaymentMethod_Electronic check</th>\n",
       "      <th>PaymentMethod_Mailed check</th>\n",
       "    </tr>\n",
       "  </thead>\n",
       "  <tbody>\n",
       "    <tr>\n",
       "      <th>0</th>\n",
       "      <td>-0.441773</td>\n",
       "      <td>0.102371</td>\n",
       "      <td>-0.521976</td>\n",
       "      <td>-0.262257</td>\n",
       "      <td>0.0</td>\n",
       "      <td>1.0</td>\n",
       "      <td>1.0</td>\n",
       "      <td>0.0</td>\n",
       "      <td>1.0</td>\n",
       "      <td>0.0</td>\n",
       "      <td>...</td>\n",
       "      <td>1.0</td>\n",
       "      <td>1.0</td>\n",
       "      <td>0.0</td>\n",
       "      <td>0.0</td>\n",
       "      <td>1.0</td>\n",
       "      <td>0.0</td>\n",
       "      <td>0.0</td>\n",
       "      <td>0.0</td>\n",
       "      <td>1.0</td>\n",
       "      <td>0.0</td>\n",
       "    </tr>\n",
       "    <tr>\n",
       "      <th>1</th>\n",
       "      <td>-0.441773</td>\n",
       "      <td>-0.711743</td>\n",
       "      <td>0.337478</td>\n",
       "      <td>-0.503635</td>\n",
       "      <td>0.0</td>\n",
       "      <td>1.0</td>\n",
       "      <td>0.0</td>\n",
       "      <td>1.0</td>\n",
       "      <td>0.0</td>\n",
       "      <td>1.0</td>\n",
       "      <td>...</td>\n",
       "      <td>0.0</td>\n",
       "      <td>1.0</td>\n",
       "      <td>0.0</td>\n",
       "      <td>0.0</td>\n",
       "      <td>1.0</td>\n",
       "      <td>0.0</td>\n",
       "      <td>0.0</td>\n",
       "      <td>0.0</td>\n",
       "      <td>0.0</td>\n",
       "      <td>1.0</td>\n",
       "    </tr>\n",
       "    <tr>\n",
       "      <th>2</th>\n",
       "      <td>-0.441773</td>\n",
       "      <td>-0.793155</td>\n",
       "      <td>-0.809013</td>\n",
       "      <td>-0.749883</td>\n",
       "      <td>0.0</td>\n",
       "      <td>1.0</td>\n",
       "      <td>0.0</td>\n",
       "      <td>1.0</td>\n",
       "      <td>0.0</td>\n",
       "      <td>1.0</td>\n",
       "      <td>...</td>\n",
       "      <td>0.0</td>\n",
       "      <td>0.0</td>\n",
       "      <td>0.0</td>\n",
       "      <td>1.0</td>\n",
       "      <td>1.0</td>\n",
       "      <td>0.0</td>\n",
       "      <td>0.0</td>\n",
       "      <td>0.0</td>\n",
       "      <td>0.0</td>\n",
       "      <td>1.0</td>\n",
       "    </tr>\n",
       "    <tr>\n",
       "      <th>3</th>\n",
       "      <td>-0.441773</td>\n",
       "      <td>-0.263980</td>\n",
       "      <td>0.284384</td>\n",
       "      <td>-0.172722</td>\n",
       "      <td>1.0</td>\n",
       "      <td>0.0</td>\n",
       "      <td>0.0</td>\n",
       "      <td>1.0</td>\n",
       "      <td>1.0</td>\n",
       "      <td>0.0</td>\n",
       "      <td>...</td>\n",
       "      <td>1.0</td>\n",
       "      <td>0.0</td>\n",
       "      <td>0.0</td>\n",
       "      <td>1.0</td>\n",
       "      <td>0.0</td>\n",
       "      <td>1.0</td>\n",
       "      <td>0.0</td>\n",
       "      <td>1.0</td>\n",
       "      <td>0.0</td>\n",
       "      <td>0.0</td>\n",
       "    </tr>\n",
       "    <tr>\n",
       "      <th>4</th>\n",
       "      <td>-0.441773</td>\n",
       "      <td>-1.281624</td>\n",
       "      <td>-0.676279</td>\n",
       "      <td>-0.989374</td>\n",
       "      <td>0.0</td>\n",
       "      <td>1.0</td>\n",
       "      <td>0.0</td>\n",
       "      <td>1.0</td>\n",
       "      <td>0.0</td>\n",
       "      <td>1.0</td>\n",
       "      <td>...</td>\n",
       "      <td>0.0</td>\n",
       "      <td>1.0</td>\n",
       "      <td>0.0</td>\n",
       "      <td>0.0</td>\n",
       "      <td>1.0</td>\n",
       "      <td>0.0</td>\n",
       "      <td>0.0</td>\n",
       "      <td>0.0</td>\n",
       "      <td>1.0</td>\n",
       "      <td>0.0</td>\n",
       "    </tr>\n",
       "  </tbody>\n",
       "</table>\n",
       "<p>5 rows × 45 columns</p>\n",
       "</div>"
      ],
      "text/plain": [
       "   SeniorCitizen    tenure  MonthlyCharges  TotalCharges  gender_Female  \\\n",
       "0      -0.441773  0.102371       -0.521976     -0.262257            0.0   \n",
       "1      -0.441773 -0.711743        0.337478     -0.503635            0.0   \n",
       "2      -0.441773 -0.793155       -0.809013     -0.749883            0.0   \n",
       "3      -0.441773 -0.263980        0.284384     -0.172722            1.0   \n",
       "4      -0.441773 -1.281624       -0.676279     -0.989374            0.0   \n",
       "\n",
       "   gender_Male  Partner_No  Partner_Yes  Dependents_No  Dependents_Yes  ...  \\\n",
       "0          1.0         1.0          0.0            1.0             0.0  ...   \n",
       "1          1.0         0.0          1.0            0.0             1.0  ...   \n",
       "2          1.0         0.0          1.0            0.0             1.0  ...   \n",
       "3          0.0         0.0          1.0            1.0             0.0  ...   \n",
       "4          1.0         0.0          1.0            0.0             1.0  ...   \n",
       "\n",
       "   StreamingMovies_Yes  Contract_Month-to-month  Contract_One year  \\\n",
       "0                  1.0                      1.0                0.0   \n",
       "1                  0.0                      1.0                0.0   \n",
       "2                  0.0                      0.0                0.0   \n",
       "3                  1.0                      0.0                0.0   \n",
       "4                  0.0                      1.0                0.0   \n",
       "\n",
       "   Contract_Two year  PaperlessBilling_No  PaperlessBilling_Yes  \\\n",
       "0                0.0                  1.0                   0.0   \n",
       "1                0.0                  1.0                   0.0   \n",
       "2                1.0                  1.0                   0.0   \n",
       "3                1.0                  0.0                   1.0   \n",
       "4                0.0                  1.0                   0.0   \n",
       "\n",
       "   PaymentMethod_Bank transfer (automatic)  \\\n",
       "0                                      0.0   \n",
       "1                                      0.0   \n",
       "2                                      0.0   \n",
       "3                                      0.0   \n",
       "4                                      0.0   \n",
       "\n",
       "   PaymentMethod_Credit card (automatic)  PaymentMethod_Electronic check  \\\n",
       "0                                    0.0                             1.0   \n",
       "1                                    0.0                             0.0   \n",
       "2                                    0.0                             0.0   \n",
       "3                                    1.0                             0.0   \n",
       "4                                    0.0                             1.0   \n",
       "\n",
       "   PaymentMethod_Mailed check  \n",
       "0                         0.0  \n",
       "1                         1.0  \n",
       "2                         1.0  \n",
       "3                         0.0  \n",
       "4                         0.0  \n",
       "\n",
       "[5 rows x 45 columns]"
      ]
     },
     "execution_count": 50,
     "metadata": {},
     "output_type": "execute_result"
    }
   ],
   "source": [
    "X_train_df.head()"
   ]
  },
  {
   "cell_type": "code",
   "execution_count": 51,
   "id": "b8e966f5",
   "metadata": {},
   "outputs": [
    {
     "data": {
      "text/html": [
       "<div>\n",
       "<style scoped>\n",
       "    .dataframe tbody tr th:only-of-type {\n",
       "        vertical-align: middle;\n",
       "    }\n",
       "\n",
       "    .dataframe tbody tr th {\n",
       "        vertical-align: top;\n",
       "    }\n",
       "\n",
       "    .dataframe thead th {\n",
       "        text-align: right;\n",
       "    }\n",
       "</style>\n",
       "<table border=\"1\" class=\"dataframe\">\n",
       "  <thead>\n",
       "    <tr style=\"text-align: right;\">\n",
       "      <th></th>\n",
       "      <th>SeniorCitizen</th>\n",
       "      <th>tenure</th>\n",
       "      <th>MonthlyCharges</th>\n",
       "      <th>TotalCharges</th>\n",
       "      <th>gender_Female</th>\n",
       "      <th>gender_Male</th>\n",
       "      <th>Partner_No</th>\n",
       "      <th>Partner_Yes</th>\n",
       "      <th>Dependents_No</th>\n",
       "      <th>Dependents_Yes</th>\n",
       "      <th>...</th>\n",
       "      <th>StreamingMovies_Yes</th>\n",
       "      <th>Contract_Month-to-month</th>\n",
       "      <th>Contract_One year</th>\n",
       "      <th>Contract_Two year</th>\n",
       "      <th>PaperlessBilling_No</th>\n",
       "      <th>PaperlessBilling_Yes</th>\n",
       "      <th>PaymentMethod_Bank transfer (automatic)</th>\n",
       "      <th>PaymentMethod_Credit card (automatic)</th>\n",
       "      <th>PaymentMethod_Electronic check</th>\n",
       "      <th>PaymentMethod_Mailed check</th>\n",
       "    </tr>\n",
       "  </thead>\n",
       "  <tbody>\n",
       "    <tr>\n",
       "      <th>0</th>\n",
       "      <td>-0.432465</td>\n",
       "      <td>1.634958</td>\n",
       "      <td>1.671630</td>\n",
       "      <td>2.829586</td>\n",
       "      <td>0.0</td>\n",
       "      <td>1.0</td>\n",
       "      <td>0.0</td>\n",
       "      <td>1.0</td>\n",
       "      <td>0.0</td>\n",
       "      <td>1.0</td>\n",
       "      <td>...</td>\n",
       "      <td>1.0</td>\n",
       "      <td>0.0</td>\n",
       "      <td>0.0</td>\n",
       "      <td>1.0</td>\n",
       "      <td>0.0</td>\n",
       "      <td>1.0</td>\n",
       "      <td>0.0</td>\n",
       "      <td>1.0</td>\n",
       "      <td>0.0</td>\n",
       "      <td>0.0</td>\n",
       "    </tr>\n",
       "    <tr>\n",
       "      <th>1</th>\n",
       "      <td>2.312325</td>\n",
       "      <td>-0.975463</td>\n",
       "      <td>1.206555</td>\n",
       "      <td>-0.583726</td>\n",
       "      <td>1.0</td>\n",
       "      <td>0.0</td>\n",
       "      <td>1.0</td>\n",
       "      <td>0.0</td>\n",
       "      <td>1.0</td>\n",
       "      <td>0.0</td>\n",
       "      <td>...</td>\n",
       "      <td>1.0</td>\n",
       "      <td>1.0</td>\n",
       "      <td>0.0</td>\n",
       "      <td>0.0</td>\n",
       "      <td>0.0</td>\n",
       "      <td>1.0</td>\n",
       "      <td>0.0</td>\n",
       "      <td>1.0</td>\n",
       "      <td>0.0</td>\n",
       "      <td>0.0</td>\n",
       "    </tr>\n",
       "    <tr>\n",
       "      <th>2</th>\n",
       "      <td>-0.432465</td>\n",
       "      <td>0.370535</td>\n",
       "      <td>0.477158</td>\n",
       "      <td>0.455960</td>\n",
       "      <td>1.0</td>\n",
       "      <td>0.0</td>\n",
       "      <td>0.0</td>\n",
       "      <td>1.0</td>\n",
       "      <td>0.0</td>\n",
       "      <td>1.0</td>\n",
       "      <td>...</td>\n",
       "      <td>0.0</td>\n",
       "      <td>0.0</td>\n",
       "      <td>1.0</td>\n",
       "      <td>0.0</td>\n",
       "      <td>0.0</td>\n",
       "      <td>1.0</td>\n",
       "      <td>0.0</td>\n",
       "      <td>1.0</td>\n",
       "      <td>0.0</td>\n",
       "      <td>0.0</td>\n",
       "    </tr>\n",
       "    <tr>\n",
       "      <th>3</th>\n",
       "      <td>-0.432465</td>\n",
       "      <td>-0.567585</td>\n",
       "      <td>0.472139</td>\n",
       "      <td>-0.330786</td>\n",
       "      <td>0.0</td>\n",
       "      <td>1.0</td>\n",
       "      <td>0.0</td>\n",
       "      <td>1.0</td>\n",
       "      <td>1.0</td>\n",
       "      <td>0.0</td>\n",
       "      <td>...</td>\n",
       "      <td>0.0</td>\n",
       "      <td>1.0</td>\n",
       "      <td>0.0</td>\n",
       "      <td>0.0</td>\n",
       "      <td>1.0</td>\n",
       "      <td>0.0</td>\n",
       "      <td>0.0</td>\n",
       "      <td>0.0</td>\n",
       "      <td>1.0</td>\n",
       "      <td>0.0</td>\n",
       "    </tr>\n",
       "    <tr>\n",
       "      <th>4</th>\n",
       "      <td>-0.432465</td>\n",
       "      <td>1.634958</td>\n",
       "      <td>0.621030</td>\n",
       "      <td>1.678736</td>\n",
       "      <td>1.0</td>\n",
       "      <td>0.0</td>\n",
       "      <td>0.0</td>\n",
       "      <td>1.0</td>\n",
       "      <td>1.0</td>\n",
       "      <td>0.0</td>\n",
       "      <td>...</td>\n",
       "      <td>1.0</td>\n",
       "      <td>0.0</td>\n",
       "      <td>0.0</td>\n",
       "      <td>1.0</td>\n",
       "      <td>0.0</td>\n",
       "      <td>1.0</td>\n",
       "      <td>0.0</td>\n",
       "      <td>1.0</td>\n",
       "      <td>0.0</td>\n",
       "      <td>0.0</td>\n",
       "    </tr>\n",
       "  </tbody>\n",
       "</table>\n",
       "<p>5 rows × 45 columns</p>\n",
       "</div>"
      ],
      "text/plain": [
       "   SeniorCitizen    tenure  MonthlyCharges  TotalCharges  gender_Female  \\\n",
       "0      -0.432465  1.634958        1.671630      2.829586            0.0   \n",
       "1       2.312325 -0.975463        1.206555     -0.583726            1.0   \n",
       "2      -0.432465  0.370535        0.477158      0.455960            1.0   \n",
       "3      -0.432465 -0.567585        0.472139     -0.330786            0.0   \n",
       "4      -0.432465  1.634958        0.621030      1.678736            1.0   \n",
       "\n",
       "   gender_Male  Partner_No  Partner_Yes  Dependents_No  Dependents_Yes  ...  \\\n",
       "0          1.0         0.0          1.0            0.0             1.0  ...   \n",
       "1          0.0         1.0          0.0            1.0             0.0  ...   \n",
       "2          0.0         0.0          1.0            0.0             1.0  ...   \n",
       "3          1.0         0.0          1.0            1.0             0.0  ...   \n",
       "4          0.0         0.0          1.0            1.0             0.0  ...   \n",
       "\n",
       "   StreamingMovies_Yes  Contract_Month-to-month  Contract_One year  \\\n",
       "0                  1.0                      0.0                0.0   \n",
       "1                  1.0                      1.0                0.0   \n",
       "2                  0.0                      0.0                1.0   \n",
       "3                  0.0                      1.0                0.0   \n",
       "4                  1.0                      0.0                0.0   \n",
       "\n",
       "   Contract_Two year  PaperlessBilling_No  PaperlessBilling_Yes  \\\n",
       "0                1.0                  0.0                   1.0   \n",
       "1                0.0                  0.0                   1.0   \n",
       "2                0.0                  0.0                   1.0   \n",
       "3                0.0                  1.0                   0.0   \n",
       "4                1.0                  0.0                   1.0   \n",
       "\n",
       "   PaymentMethod_Bank transfer (automatic)  \\\n",
       "0                                      0.0   \n",
       "1                                      0.0   \n",
       "2                                      0.0   \n",
       "3                                      0.0   \n",
       "4                                      0.0   \n",
       "\n",
       "   PaymentMethod_Credit card (automatic)  PaymentMethod_Electronic check  \\\n",
       "0                                    1.0                             0.0   \n",
       "1                                    1.0                             0.0   \n",
       "2                                    1.0                             0.0   \n",
       "3                                    0.0                             1.0   \n",
       "4                                    1.0                             0.0   \n",
       "\n",
       "   PaymentMethod_Mailed check  \n",
       "0                         0.0  \n",
       "1                         0.0  \n",
       "2                         0.0  \n",
       "3                         0.0  \n",
       "4                         0.0  \n",
       "\n",
       "[5 rows x 45 columns]"
      ]
     },
     "execution_count": 51,
     "metadata": {},
     "output_type": "execute_result"
    }
   ],
   "source": [
    "X_eval_df.head()"
   ]
  },
  {
   "cell_type": "markdown",
   "id": "f467db1d",
   "metadata": {},
   "source": [
    "## Resampling data to balance the minority to the majority"
   ]
  },
  {
   "cell_type": "code",
   "execution_count": 52,
   "id": "5c45bcd8",
   "metadata": {},
   "outputs": [],
   "source": [
    "# applying resampling method to balance the data\n",
    "Xtrain_resampled, ytrain_resampled = SMOTE().fit_resample(X_train_df, y_train) # using over_sampling"
   ]
  },
  {
   "cell_type": "code",
   "execution_count": 53,
   "id": "5883e6d6",
   "metadata": {},
   "outputs": [
    {
     "data": {
      "text/plain": [
       "((8278, 45), (8278, 1))"
      ]
     },
     "execution_count": 53,
     "metadata": {},
     "output_type": "execute_result"
    }
   ],
   "source": [
    "Xtrain_resampled.shape, ytrain_resampled.shape"
   ]
  },
  {
   "cell_type": "markdown",
   "id": "0020a0e3",
   "metadata": {},
   "source": [
    "## Decision Tree Regression Model"
   ]
  },
  {
   "cell_type": "code",
   "execution_count": 54,
   "id": "b844f4b1",
   "metadata": {},
   "outputs": [],
   "source": [
    "#fitting decision tree model\n",
    "dt_model=DecisionTreeClassifier(random_state=42)"
   ]
  },
  {
   "cell_type": "code",
   "execution_count": 55,
   "id": "1803405e",
   "metadata": {},
   "outputs": [],
   "source": [
    "#fitting model on imbalanced data\n",
    "dt_model.fit(X_train_df,y_train)\n",
    "# Make predictions on the evaluation data\n",
    "dt_pred1 = dt_model.predict(X_eval_df)"
   ]
  },
  {
   "cell_type": "code",
   "execution_count": 56,
   "id": "af50040f",
   "metadata": {},
   "outputs": [
    {
     "name": "stdout",
     "output_type": "stream",
     "text": [
      "              precision    recall  f1-score   support\n",
      "\n",
      "           0       0.81      0.82      0.81      1035\n",
      "           1       0.48      0.45      0.46       374\n",
      "\n",
      "    accuracy                           0.72      1409\n",
      "   macro avg       0.64      0.64      0.64      1409\n",
      "weighted avg       0.72      0.72      0.72      1409\n",
      "\n"
     ]
    }
   ],
   "source": [
    "# report on unbalanced data\n",
    "dt_report1 = classification_report(y_eval, dt_pred1)\n",
    "print(dt_report1)"
   ]
  },
  {
   "cell_type": "markdown",
   "id": "0dd02490",
   "metadata": {},
   "source": [
    "## Random Forest"
   ]
  },
  {
   "cell_type": "code",
   "execution_count": 57,
   "id": "141bf19c",
   "metadata": {},
   "outputs": [],
   "source": [
    "rf_model = RandomForestClassifier(random_state=42)"
   ]
  },
  {
   "cell_type": "code",
   "execution_count": 58,
   "id": "af8a54a5",
   "metadata": {},
   "outputs": [],
   "source": [
    "#fitting  rf_model on imbalanced data\n",
    "rf_model.fit(X_train_df, y_train)\n",
    "# Make predictions on the eval_imbalanced data\n",
    "rf_pred1 = rf_model.predict(X_eval_df)"
   ]
  },
  {
   "cell_type": "code",
   "execution_count": 59,
   "id": "10515886",
   "metadata": {},
   "outputs": [
    {
     "name": "stdout",
     "output_type": "stream",
     "text": [
      "              precision    recall  f1-score   support\n",
      "\n",
      "           0       0.82      0.90      0.86      1035\n",
      "           1       0.62      0.45      0.52       374\n",
      "\n",
      "    accuracy                           0.78      1409\n",
      "   macro avg       0.72      0.68      0.69      1409\n",
      "weighted avg       0.77      0.78      0.77      1409\n",
      "\n"
     ]
    }
   ],
   "source": [
    "# report on unbalanced data\n",
    "rf_report1 = classification_report(y_eval, rf_pred1)\n",
    "print(rf_report1)"
   ]
  },
  {
   "cell_type": "markdown",
   "id": "0a52f098",
   "metadata": {},
   "source": [
    "## Logistic Regression"
   ]
  },
  {
   "cell_type": "code",
   "execution_count": 60,
   "id": "9d472926",
   "metadata": {},
   "outputs": [],
   "source": [
    "# Fit a logistic regression model to the training data\n",
    "lr_model = LogisticRegression(random_state=42)"
   ]
  },
  {
   "cell_type": "code",
   "execution_count": 61,
   "id": "341832da",
   "metadata": {},
   "outputs": [],
   "source": [
    "#fitting model on the imbalanced data\n",
    "lr_model.fit(X_train_df,y_train)\n",
    "# Make predictions on the evaluation imbalanced data\n",
    "lr_pred1 = lr_model.predict(X_eval_df)"
   ]
  },
  {
   "cell_type": "code",
   "execution_count": 62,
   "id": "64923904",
   "metadata": {
    "scrolled": true
   },
   "outputs": [
    {
     "name": "stdout",
     "output_type": "stream",
     "text": [
      "              precision    recall  f1-score   support\n",
      "\n",
      "           0       0.85      0.90      0.87      1035\n",
      "           1       0.66      0.55      0.60       374\n",
      "\n",
      "    accuracy                           0.81      1409\n",
      "   macro avg       0.75      0.72      0.74      1409\n",
      "weighted avg       0.80      0.81      0.80      1409\n",
      "\n"
     ]
    }
   ],
   "source": [
    "# report on unbalanced data\n",
    "lr_report1 = classification_report(y_eval, lr_pred1)\n",
    "print(lr_report1)"
   ]
  },
  {
   "cell_type": "markdown",
   "id": "506f5d13",
   "metadata": {},
   "source": [
    "## K Nearest Neighbour"
   ]
  },
  {
   "cell_type": "code",
   "execution_count": 63,
   "id": "5991c064",
   "metadata": {},
   "outputs": [],
   "source": [
    "kn_model = KNeighborsClassifier(n_neighbors=5)"
   ]
  },
  {
   "cell_type": "code",
   "execution_count": 64,
   "id": "2d62186a",
   "metadata": {},
   "outputs": [],
   "source": [
    "# fitting model on unbalanced data\n",
    "kn_model.fit(X_train_df, y_train)\n",
    "# Make predictions on the evaluation data\n",
    "kn_pred1 = kn_model.predict(X_eval_df)"
   ]
  },
  {
   "cell_type": "code",
   "execution_count": 65,
   "id": "0b3273b8",
   "metadata": {},
   "outputs": [
    {
     "name": "stdout",
     "output_type": "stream",
     "text": [
      "              precision    recall  f1-score   support\n",
      "\n",
      "           0       0.84      0.84      0.84      1035\n",
      "           1       0.55      0.55      0.55       374\n",
      "\n",
      "    accuracy                           0.76      1409\n",
      "   macro avg       0.70      0.70      0.70      1409\n",
      "weighted avg       0.76      0.76      0.76      1409\n",
      "\n"
     ]
    }
   ],
   "source": [
    "# report on unbalanced data\n",
    "kn_report1 = classification_report(y_eval, kn_pred1)\n",
    "print(kn_report1)"
   ]
  },
  {
   "cell_type": "markdown",
   "id": "6aeb3ce1",
   "metadata": {},
   "source": [
    "## model comparison"
   ]
  },
  {
   "cell_type": "code",
   "execution_count": 66,
   "id": "fad24f9d",
   "metadata": {},
   "outputs": [],
   "source": [
    "dt_f1= f1_score(y_eval, dt_pred1)\n",
    "rf_f1= f1_score(y_eval, rf_pred1)\n",
    "kn_f1= f1_score(y_eval, kn_pred1)\n",
    "lr_f1= f1_score(y_eval, lr_pred1)"
   ]
  },
  {
   "cell_type": "code",
   "execution_count": 67,
   "id": "4507cc34",
   "metadata": {},
   "outputs": [],
   "source": [
    "results= {'model':['DecisionTreeClassifier','RandomForestClassifier','KNN','LogisticRegression'],\n",
    "         'f1_score':[dt_f1,rf_f1,kn_f1,lr_f1]}\n",
    "results_df= pd.DataFrame(results)"
   ]
  },
  {
   "cell_type": "code",
   "execution_count": 68,
   "id": "d12354c0",
   "metadata": {},
   "outputs": [
    {
     "data": {
      "text/html": [
       "<div>\n",
       "<style scoped>\n",
       "    .dataframe tbody tr th:only-of-type {\n",
       "        vertical-align: middle;\n",
       "    }\n",
       "\n",
       "    .dataframe tbody tr th {\n",
       "        vertical-align: top;\n",
       "    }\n",
       "\n",
       "    .dataframe thead th {\n",
       "        text-align: right;\n",
       "    }\n",
       "</style>\n",
       "<table border=\"1\" class=\"dataframe\">\n",
       "  <thead>\n",
       "    <tr style=\"text-align: right;\">\n",
       "      <th></th>\n",
       "      <th>model</th>\n",
       "      <th>f1_score</th>\n",
       "    </tr>\n",
       "  </thead>\n",
       "  <tbody>\n",
       "    <tr>\n",
       "      <th>0</th>\n",
       "      <td>DecisionTreeClassifier</td>\n",
       "      <td>0.464924</td>\n",
       "    </tr>\n",
       "    <tr>\n",
       "      <th>1</th>\n",
       "      <td>RandomForestClassifier</td>\n",
       "      <td>0.521605</td>\n",
       "    </tr>\n",
       "    <tr>\n",
       "      <th>2</th>\n",
       "      <td>KNN</td>\n",
       "      <td>0.553476</td>\n",
       "    </tr>\n",
       "    <tr>\n",
       "      <th>3</th>\n",
       "      <td>LogisticRegression</td>\n",
       "      <td>0.600293</td>\n",
       "    </tr>\n",
       "  </tbody>\n",
       "</table>\n",
       "</div>"
      ],
      "text/plain": [
       "                    model  f1_score\n",
       "0  DecisionTreeClassifier  0.464924\n",
       "1  RandomForestClassifier  0.521605\n",
       "2                     KNN  0.553476\n",
       "3      LogisticRegression  0.600293"
      ]
     },
     "execution_count": 68,
     "metadata": {},
     "output_type": "execute_result"
    }
   ],
   "source": [
    "results_df"
   ]
  },
  {
   "cell_type": "markdown",
   "id": "820f6cdc",
   "metadata": {},
   "source": [
    "From all the models fit and evaluated logistic regression model seems to perform better than the other models,with f1_score of 60%"
   ]
  },
  {
   "cell_type": "markdown",
   "id": "3b7a9ceb",
   "metadata": {},
   "source": [
    "## Feature importance"
   ]
  },
  {
   "cell_type": "code",
   "execution_count": 69,
   "id": "81b11714",
   "metadata": {},
   "outputs": [],
   "source": [
    "# Get feature importances for decision tree model\n",
    "dt_importances = dt_model.feature_importances_\n",
    "importances_df = pd.DataFrame({'feature': X_train_df.columns, 'dt_importances': dt_importances})"
   ]
  },
  {
   "cell_type": "code",
   "execution_count": 70,
   "id": "1693b200",
   "metadata": {},
   "outputs": [
    {
     "data": {
      "image/png": "[encoded data removed]",
      "text/plain": [
       "<Figure size 1080x720 with 1 Axes>"
      ]
     },
     "metadata": {
      "needs_background": "light"
     },
     "output_type": "display_data"
    }
   ],
   "source": [
    "plt.figure(figsize=(15,10))\n",
    "# sort the dataframe by importance \n",
    "importances_df = importances_df.sort_values('dt_importances', ascending=False)\n",
    "\n",
    "# create a horizontal bar plot using seaborn\n",
    "\n",
    "sns.barplot(x='dt_importances', y='feature', data=importances_df)\n",
    "plt.title('dt_Feature Importance')\n",
    "plt.xlabel('importance')\n",
    "plt.ylabel('Feature')\n",
    "plt.show()"
   ]
  },
  {
   "cell_type": "code",
   "execution_count": 71,
   "id": "56181c38",
   "metadata": {},
   "outputs": [],
   "source": [
    "# Get feature importances for random forest model\n",
    "rf_importances = rf_model.feature_importances_\n",
    "importances_rf = pd.DataFrame({'feature': X_train_df.columns, 'rf_importances': rf_importances})"
   ]
  },
  {
   "cell_type": "code",
   "execution_count": 72,
   "id": "f035a28c",
   "metadata": {
    "scrolled": false
   },
   "outputs": [
    {
     "data": {
      "image/png": "[encoded data removed]",
      "text/plain": [
       "<Figure size 1080x720 with 1 Axes>"
      ]
     },
     "metadata": {
      "needs_background": "light"
     },
     "output_type": "display_data"
    }
   ],
   "source": [
    "plt.figure(figsize=(15,10))\n",
    "# sort the dataframe by importance\n",
    "importances_rf = importances_rf.sort_values('rf_importances', ascending=False)\n",
    "# create a horizontal bar plot using seaborn\n",
    "sns.barplot(x='rf_importances', y='feature', data=importances_rf)\n",
    "plt.title('rf_Feature Importance')\n",
    "plt.xlabel('importance')\n",
    "plt.ylabel('Feature')\n",
    "plt.show()"
   ]
  },
  {
   "cell_type": "code",
   "execution_count": 73,
   "id": "52b52a5a",
   "metadata": {},
   "outputs": [],
   "source": [
    "model = LogisticRegression(penalty='l1', solver='liblinear')\n",
    "\n",
    "# fit the model on the entire dataset\n",
    "model.fit(X_train_df,y_train)\n",
    "\n",
    "# compute the absolute coefficient values\n",
    "coef_abs = np.abs(model.coef_)\n",
    "\n",
    "# compute the sum of absolute coefficient values across each feature\n",
    "feature_importance = np.sum(coef_abs, axis=0)"
   ]
  },
  {
   "cell_type": "code",
   "execution_count": 74,
   "id": "eeb27b12",
   "metadata": {
    "scrolled": false
   },
   "outputs": [
    {
     "data": {
      "image/png": "[encoded data removed]",
      "text/plain": [
       "<Figure size 1080x720 with 1 Axes>"
      ]
     },
     "metadata": {
      "needs_background": "light"
     },
     "output_type": "display_data"
    }
   ],
   "source": [
    "plt.figure(figsize=(15,10))\n",
    "# create a pandas dataframe with the feature importance scores\n",
    "importance_df = pd.DataFrame({'feature': X_train_df.columns, 'importance': feature_importance})\n",
    "\n",
    "# sort the dataframe by importance score\n",
    "importance_df = importance_df.sort_values('importance', ascending=False)\n",
    "\n",
    "# create a horizontal bar plot using seaborn\n",
    "#sns.set_style('whitegrid')\n",
    "sns.barplot(x='importance', y='feature', data=importance_df)\n",
    "plt.title('Feature Importance Scores')\n",
    "plt.xlabel('Sum of Absolute Coefficient Values')\n",
    "plt.ylabel('Feature')\n",
    "plt.show()"
   ]
  },
  {
   "cell_type": "markdown",
   "id": "5cc2fb4e",
   "metadata": {},
   "source": [
    "## Model Interpretation"
   ]
  },
  {
   "cell_type": "markdown",
   "id": "08ac9949",
   "metadata": {},
   "source": [
    "SHAP (SHapley Additive exPlanations) is a game theoretic approach to explain the output of any machine learning model. It connects optimal credit allocation with local explanations using the classic Shapley values from game theory and their related extensiona."
   ]
  },
  {
   "cell_type": "code",
   "execution_count": 75,
   "id": "0dee9afb",
   "metadata": {},
   "outputs": [
    {
     "name": "stdout",
     "output_type": "stream",
     "text": [
      "Observed features of observation number 700:\n",
      "     SeniorCitizen    tenure  MonthlyCharges  TotalCharges  gender_Female  \\\n",
      "700       2.312325 -0.118919        0.508944      0.096259            0.0   \n",
      "\n",
      "     gender_Male  Partner_No  Partner_Yes  Dependents_No  Dependents_Yes  ...  \\\n",
      "700          1.0         0.0          1.0            1.0             0.0  ...   \n",
      "\n",
      "     StreamingMovies_Yes  Contract_Month-to-month  Contract_One year  \\\n",
      "700                  0.0                      1.0                0.0   \n",
      "\n",
      "     Contract_Two year  PaperlessBilling_No  PaperlessBilling_Yes  \\\n",
      "700                0.0                  0.0                   1.0   \n",
      "\n",
      "     PaymentMethod_Bank transfer (automatic)  \\\n",
      "700                                      0.0   \n",
      "\n",
      "     PaymentMethod_Credit card (automatic)  PaymentMethod_Electronic check  \\\n",
      "700                                    0.0                             1.0   \n",
      "\n",
      "     PaymentMethod_Mailed check  \n",
      "700                         0.0  \n",
      "\n",
      "[1 rows x 45 columns]\n",
      "\n",
      "\n",
      "Predicted severity of the disease for patient number 700:\n",
      "[1]\n"
     ]
    }
   ],
   "source": [
    "# Draw sample of observations\n",
    "sample = X_eval_df\n",
    "\n",
    "# Pick 700th observation from sample to explain\n",
    "idx = 700\n",
    "\n",
    "# Print 700th observation\n",
    "print(\n",
    "    f'Observed features of observation number {idx}:\\n',\n",
    "    sample.iloc[[idx], :],\n",
    "    sep=''\n",
    ")\n",
    "\n",
    "# Print predicted value made on 700th observation\n",
    "print(\n",
    "    f'\\n\\nPredicted severity of the disease for patient number {idx}:\\n',\n",
    "    model.predict(sample.iloc[[idx], :]),\n",
    "    sep=''\n",
    ")"
   ]
  },
  {
   "cell_type": "code",
   "execution_count": 76,
   "id": "69622226",
   "metadata": {},
   "outputs": [
    {
     "data": {
      "image/png": "[encoded data removed]",
      "text/plain": [
       "<Figure size 576x468 with 3 Axes>"
      ]
     },
     "metadata": {},
     "output_type": "display_data"
    }
   ],
   "source": [
    "# Instantiate explainer\n",
    "lr_explainer = shap.Explainer(lr_model,X_train_df)\n",
    "   \n",
    "# Calculate SHAP values using sample\n",
    "lr_shap_values = lr_explainer(sample)\n",
    "\n",
    "# Waterfall plot\n",
    "shap.plots.waterfall(shap_values=lr_shap_values[idx])\n"
   ]
  },
  {
   "cell_type": "markdown",
   "id": "dc35c177",
   "metadata": {},
   "source": [
    "From the plot we realise that the internet fibre optic(1) has positively influenced the model with shapley value of(+o.44),the monthly charges is among the top 5 although it did influence the model negatively with shapley value of (-0.3)"
   ]
  },
  {
   "cell_type": "markdown",
   "id": "48160020",
   "metadata": {},
   "source": [
    "## Hyperparameter tuning"
   ]
  },
  {
   "cell_type": "code",
   "execution_count": 77,
   "id": "03b075d2",
   "metadata": {
    "scrolled": false
   },
   "outputs": [
    {
     "name": "stdout",
     "output_type": "stream",
     "text": [
      "Best hyperparameters:  {'max_depth': 5, 'max_features': 15, 'min_samples_leaf': 1, 'min_samples_split': 2}\n",
      "Best estimators:  DecisionTreeClassifier(max_depth=5, max_features=15, random_state=42)\n",
      "Best f1_score:  0.5696270216298357\n"
     ]
    }
   ],
   "source": [
    "# Define the parameter grid for the decision tree classifier\n",
    "dt_param = {\n",
    "    'max_depth': [5, 10, 15],\n",
    "    'min_samples_split': [2, 5, 10],\n",
    "    'min_samples_leaf': [1, 2, 4],\n",
    "    'max_features': [5,10 ,15]\n",
    "}\n",
    "\n",
    "\n",
    "# perform a grid search with 5-fold cross-validation using only the selected features\n",
    "dt_grid_search = GridSearchCV(estimator=dt_model, param_grid=dt_param,scoring='f1',cv=5)\n",
    "dt_grid_search.fit(X_train_df,y_train)\n",
    "\n",
    "# print the best hyperparameters and the corresponding mean cross-validation score\n",
    "print(\"Best hyperparameters: \", dt_grid_search.best_params_)\n",
    "print('Best estimators: ',dt_grid_search.best_estimator_)\n",
    "print(\"Best f1_score: \", dt_grid_search.best_score_)"
   ]
  },
  {
   "cell_type": "code",
   "execution_count": 78,
   "id": "e7af901f",
   "metadata": {},
   "outputs": [
    {
     "name": "stdout",
     "output_type": "stream",
     "text": [
      "Best hyperparameters:  {'C': 200, 'solver': 'sag'}\n",
      "Best estimators:  LogisticRegression(C=200, random_state=42, solver='sag')\n",
      "Best f1_score average:  0.599371387712228\n"
     ]
    }
   ],
   "source": [
    "# define the hyperparameter grid to search over the logistics regression model\n",
    "lr_param = {\n",
    "    'C': [200,300,400,500],\n",
    "    'solver': ['newton-cg', 'lbfgs', 'liblinear', 'sag', 'saga']\n",
    "}\n",
    "\n",
    "# perform a grid search with 5-fold cross-validation using only the selected features\n",
    "lr_grid_search = GridSearchCV(estimator=lr_model, param_grid=lr_param,scoring='f1',cv=5)\n",
    "lr_grid_search.fit(X_train_df, y_train)\n",
    "\n",
    "# print the best hyperparameters and the corresponding mean cross-validation score\n",
    "print(\"Best hyperparameters: \", lr_grid_search.best_params_)\n",
    "print('Best estimators: ',lr_grid_search.best_estimator_)\n",
    "print(\"Best f1_score average: \", lr_grid_search.best_score_)"
   ]
  },
  {
   "cell_type": "code",
   "execution_count": 79,
   "id": "3431b686",
   "metadata": {},
   "outputs": [
    {
     "name": "stdout",
     "output_type": "stream",
     "text": [
      "Best hyperparameters:  {'n_neighbors': 35, 'p': 1, 'weights': 'uniform'}\n",
      "Best estimators:  KNeighborsClassifier(n_neighbors=35, p=1)\n",
      "Best score:  0.6101095571752914\n"
     ]
    }
   ],
   "source": [
    "# define the parameter grid for knn model\n",
    "kn_param = {'n_neighbors': [20,25,30,35,40],\n",
    "              'weights': ['uniform', 'distance'],\n",
    "              'p': [1, 2]}\n",
    "# perform grid search with cross-validation\n",
    "kn_grid_search = GridSearchCV(kn_model, param_grid=kn_param,scoring='f1', cv=5)\n",
    "kn_grid_search.fit(X_train_df, y_train)\n",
    "\n",
    "# print the best hyperparameters and the corresponding score\n",
    "print(\"Best hyperparameters: \",kn_grid_search.best_params_)\n",
    "print('Best estimators: ',kn_grid_search.best_estimator_)\n",
    "print(\"Best score: \", kn_grid_search.best_score_)"
   ]
  },
  {
   "cell_type": "markdown",
   "id": "a7c5377d",
   "metadata": {},
   "source": [
    "Once we were done with performing hyperparameter tuning on the different models, we came to the conclusion that knn model has shown a better improvement with an f1_score of 61% better than the score of logistic regression model"
   ]
  },
  {
   "cell_type": "markdown",
   "id": "cd359c28",
   "metadata": {},
   "source": [
    "## Export key components\n",
    "Here is the section to export the important ML objects that will be use to develop an app: Encoder, Scaler, ColumnTransformer, Model, Pipeline, etc."
   ]
  },
  {
   "cell_type": "code",
   "execution_count": 80,
   "id": "ab8774aa",
   "metadata": {},
   "outputs": [],
   "source": [
    "# Get the best KNN model\n",
    "best_knn = kn_grid_search.best_estimator_"
   ]
  },
  {
   "cell_type": "code",
   "execution_count": 81,
   "id": "9fe481e8",
   "metadata": {},
   "outputs": [],
   "source": [
    "components_dtc = {\n",
    "    \"num_imputer\":numerical_imputer,\n",
    "    \"cat_imputer\": categorical_imputer,\n",
    "    \"encoder\": encoder,\n",
    "    \"scaler\": scaler,\n",
    "    \"models\": best_knn \n",
    "}"
   ]
  },
  {
   "cell_type": "code",
   "execution_count": 82,
   "id": "794b7c64",
   "metadata": {},
   "outputs": [],
   "source": [
    "# Export the KNN model\n",
    "with open('kn_model.pkl', 'wb') as f:\n",
    "    pickle.dump(components_dtc, f)"
   ]
  },
  {
   "cell_type": "code",
   "execution_count": 83,
   "id": "b4cecef3",
   "metadata": {},
   "outputs": [
    {
     "name": "stdout",
     "output_type": "stream",
     "text": [
      "Note: you may need to restart the kernel to use updated packages.\n"
     ]
    }
   ],
   "source": [
    "pip freeze > requirements.txt"
   ]
  },
  {
   "cell_type": "code",
   "execution_count": null,
   "id": "b16f6c01",
   "metadata": {},
   "outputs": [],
   "source": []
  }
 ],
 "metadata": {
  "kernelspec": {
   "display_name": "Python 3 (ipykernel)",
   "language": "python",
   "name": "python3"
  },
  "language_info": {
   "codemirror_mode": {
    "name": "ipython",
    "version": 3
   },
   "file_extension": ".py",
   "mimetype": "text/x-python",
   "name": "python",
   "nbconvert_exporter": "python",
   "pygments_lexer": "ipython3",
   "version": "3.9.12"
  }
 },
 "nbformat": 4,
 "nbformat_minor": 5
}
